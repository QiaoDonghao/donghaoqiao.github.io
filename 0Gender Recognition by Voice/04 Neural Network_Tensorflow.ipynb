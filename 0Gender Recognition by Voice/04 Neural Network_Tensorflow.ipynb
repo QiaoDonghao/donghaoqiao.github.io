{
 "cells": [
  {
   "cell_type": "code",
   "execution_count": 8,
   "metadata": {},
   "outputs": [],
   "source": [
    "import pandas as pd\n",
    "from sklearn import preprocessing\n",
    "from sklearn.model_selection import train_test_split\n",
    "import matplotlib.pyplot as plt\n",
    "import numpy as np\n",
    "import tensorflow as tf"
   ]
  },
  {
   "cell_type": "code",
   "execution_count": 24,
   "metadata": {},
   "outputs": [
    {
     "data": {
      "text/html": [
       "<div>\n",
       "<style>\n",
       "    .dataframe thead tr:only-child th {\n",
       "        text-align: right;\n",
       "    }\n",
       "\n",
       "    .dataframe thead th {\n",
       "        text-align: left;\n",
       "    }\n",
       "\n",
       "    .dataframe tbody tr th {\n",
       "        vertical-align: top;\n",
       "    }\n",
       "</style>\n",
       "<table border=\"1\" class=\"dataframe\">\n",
       "  <thead>\n",
       "    <tr style=\"text-align: right;\">\n",
       "      <th></th>\n",
       "      <th>meanfreq</th>\n",
       "      <th>sd</th>\n",
       "      <th>median</th>\n",
       "      <th>Q25</th>\n",
       "      <th>Q75</th>\n",
       "      <th>IQR</th>\n",
       "      <th>skew</th>\n",
       "      <th>kurt</th>\n",
       "      <th>sp.ent</th>\n",
       "      <th>sfm</th>\n",
       "      <th>...</th>\n",
       "      <th>centroid</th>\n",
       "      <th>meanfun</th>\n",
       "      <th>minfun</th>\n",
       "      <th>maxfun</th>\n",
       "      <th>meandom</th>\n",
       "      <th>mindom</th>\n",
       "      <th>maxdom</th>\n",
       "      <th>dfrange</th>\n",
       "      <th>modindx</th>\n",
       "      <th>label</th>\n",
       "    </tr>\n",
       "  </thead>\n",
       "  <tbody>\n",
       "    <tr>\n",
       "      <th>0</th>\n",
       "      <td>0.059781</td>\n",
       "      <td>0.064241</td>\n",
       "      <td>0.032027</td>\n",
       "      <td>0.015071</td>\n",
       "      <td>0.090193</td>\n",
       "      <td>0.075122</td>\n",
       "      <td>12.863462</td>\n",
       "      <td>274.402906</td>\n",
       "      <td>0.893369</td>\n",
       "      <td>0.491918</td>\n",
       "      <td>...</td>\n",
       "      <td>0.059781</td>\n",
       "      <td>0.084279</td>\n",
       "      <td>0.015702</td>\n",
       "      <td>0.275862</td>\n",
       "      <td>0.007812</td>\n",
       "      <td>0.007812</td>\n",
       "      <td>0.007812</td>\n",
       "      <td>0.000000</td>\n",
       "      <td>0.000000</td>\n",
       "      <td>male</td>\n",
       "    </tr>\n",
       "    <tr>\n",
       "      <th>1</th>\n",
       "      <td>0.066009</td>\n",
       "      <td>0.067310</td>\n",
       "      <td>0.040229</td>\n",
       "      <td>0.019414</td>\n",
       "      <td>0.092666</td>\n",
       "      <td>0.073252</td>\n",
       "      <td>22.423285</td>\n",
       "      <td>634.613855</td>\n",
       "      <td>0.892193</td>\n",
       "      <td>0.513724</td>\n",
       "      <td>...</td>\n",
       "      <td>0.066009</td>\n",
       "      <td>0.107937</td>\n",
       "      <td>0.015826</td>\n",
       "      <td>0.250000</td>\n",
       "      <td>0.009014</td>\n",
       "      <td>0.007812</td>\n",
       "      <td>0.054688</td>\n",
       "      <td>0.046875</td>\n",
       "      <td>0.052632</td>\n",
       "      <td>male</td>\n",
       "    </tr>\n",
       "    <tr>\n",
       "      <th>2</th>\n",
       "      <td>0.077316</td>\n",
       "      <td>0.083829</td>\n",
       "      <td>0.036718</td>\n",
       "      <td>0.008701</td>\n",
       "      <td>0.131908</td>\n",
       "      <td>0.123207</td>\n",
       "      <td>30.757155</td>\n",
       "      <td>1024.927705</td>\n",
       "      <td>0.846389</td>\n",
       "      <td>0.478905</td>\n",
       "      <td>...</td>\n",
       "      <td>0.077316</td>\n",
       "      <td>0.098706</td>\n",
       "      <td>0.015656</td>\n",
       "      <td>0.271186</td>\n",
       "      <td>0.007990</td>\n",
       "      <td>0.007812</td>\n",
       "      <td>0.015625</td>\n",
       "      <td>0.007812</td>\n",
       "      <td>0.046512</td>\n",
       "      <td>male</td>\n",
       "    </tr>\n",
       "    <tr>\n",
       "      <th>3</th>\n",
       "      <td>0.151228</td>\n",
       "      <td>0.072111</td>\n",
       "      <td>0.158011</td>\n",
       "      <td>0.096582</td>\n",
       "      <td>0.207955</td>\n",
       "      <td>0.111374</td>\n",
       "      <td>1.232831</td>\n",
       "      <td>4.177296</td>\n",
       "      <td>0.963322</td>\n",
       "      <td>0.727232</td>\n",
       "      <td>...</td>\n",
       "      <td>0.151228</td>\n",
       "      <td>0.088965</td>\n",
       "      <td>0.017798</td>\n",
       "      <td>0.250000</td>\n",
       "      <td>0.201497</td>\n",
       "      <td>0.007812</td>\n",
       "      <td>0.562500</td>\n",
       "      <td>0.554688</td>\n",
       "      <td>0.247119</td>\n",
       "      <td>male</td>\n",
       "    </tr>\n",
       "    <tr>\n",
       "      <th>4</th>\n",
       "      <td>0.135120</td>\n",
       "      <td>0.079146</td>\n",
       "      <td>0.124656</td>\n",
       "      <td>0.078720</td>\n",
       "      <td>0.206045</td>\n",
       "      <td>0.127325</td>\n",
       "      <td>1.101174</td>\n",
       "      <td>4.333713</td>\n",
       "      <td>0.971955</td>\n",
       "      <td>0.783568</td>\n",
       "      <td>...</td>\n",
       "      <td>0.135120</td>\n",
       "      <td>0.106398</td>\n",
       "      <td>0.016931</td>\n",
       "      <td>0.266667</td>\n",
       "      <td>0.712812</td>\n",
       "      <td>0.007812</td>\n",
       "      <td>5.484375</td>\n",
       "      <td>5.476562</td>\n",
       "      <td>0.208274</td>\n",
       "      <td>male</td>\n",
       "    </tr>\n",
       "  </tbody>\n",
       "</table>\n",
       "<p>5 rows × 21 columns</p>\n",
       "</div>"
      ],
      "text/plain": [
       "   meanfreq        sd    median       Q25       Q75       IQR       skew  \\\n",
       "0  0.059781  0.064241  0.032027  0.015071  0.090193  0.075122  12.863462   \n",
       "1  0.066009  0.067310  0.040229  0.019414  0.092666  0.073252  22.423285   \n",
       "2  0.077316  0.083829  0.036718  0.008701  0.131908  0.123207  30.757155   \n",
       "3  0.151228  0.072111  0.158011  0.096582  0.207955  0.111374   1.232831   \n",
       "4  0.135120  0.079146  0.124656  0.078720  0.206045  0.127325   1.101174   \n",
       "\n",
       "          kurt    sp.ent       sfm  ...    centroid   meanfun    minfun  \\\n",
       "0   274.402906  0.893369  0.491918  ...    0.059781  0.084279  0.015702   \n",
       "1   634.613855  0.892193  0.513724  ...    0.066009  0.107937  0.015826   \n",
       "2  1024.927705  0.846389  0.478905  ...    0.077316  0.098706  0.015656   \n",
       "3     4.177296  0.963322  0.727232  ...    0.151228  0.088965  0.017798   \n",
       "4     4.333713  0.971955  0.783568  ...    0.135120  0.106398  0.016931   \n",
       "\n",
       "     maxfun   meandom    mindom    maxdom   dfrange   modindx  label  \n",
       "0  0.275862  0.007812  0.007812  0.007812  0.000000  0.000000   male  \n",
       "1  0.250000  0.009014  0.007812  0.054688  0.046875  0.052632   male  \n",
       "2  0.271186  0.007990  0.007812  0.015625  0.007812  0.046512   male  \n",
       "3  0.250000  0.201497  0.007812  0.562500  0.554688  0.247119   male  \n",
       "4  0.266667  0.712812  0.007812  5.484375  5.476562  0.208274   male  \n",
       "\n",
       "[5 rows x 21 columns]"
      ]
     },
     "execution_count": 24,
     "metadata": {},
     "output_type": "execute_result"
    }
   ],
   "source": [
    "voice = pd.read_csv(\"voice.csv\", header=0)\n",
    "voice.head()"
   ]
  },
  {
   "cell_type": "code",
   "execution_count": 25,
   "metadata": {},
   "outputs": [
    {
     "data": {
      "text/plain": [
       "array(['female', 'male'], dtype=object)"
      ]
     },
     "execution_count": 25,
     "metadata": {},
     "output_type": "execute_result"
    }
   ],
   "source": [
    "le = preprocessing.LabelEncoder()\n",
    "voice[\"label\"] = le.fit_transform(voice[\"label\"])\n",
    "le.classes_"
   ]
  },
  {
   "cell_type": "code",
   "execution_count": 28,
   "metadata": {
    "scrolled": true
   },
   "outputs": [
    {
     "data": {
      "text/html": [
       "<div>\n",
       "<style>\n",
       "    .dataframe thead tr:only-child th {\n",
       "        text-align: right;\n",
       "    }\n",
       "\n",
       "    .dataframe thead th {\n",
       "        text-align: left;\n",
       "    }\n",
       "\n",
       "    .dataframe tbody tr th {\n",
       "        vertical-align: top;\n",
       "    }\n",
       "</style>\n",
       "<table border=\"1\" class=\"dataframe\">\n",
       "  <thead>\n",
       "    <tr style=\"text-align: right;\">\n",
       "      <th></th>\n",
       "      <th>0</th>\n",
       "      <th>1</th>\n",
       "    </tr>\n",
       "  </thead>\n",
       "  <tbody>\n",
       "    <tr>\n",
       "      <th>681</th>\n",
       "      <td>0</td>\n",
       "      <td>1</td>\n",
       "    </tr>\n",
       "    <tr>\n",
       "      <th>1293</th>\n",
       "      <td>0</td>\n",
       "      <td>1</td>\n",
       "    </tr>\n",
       "    <tr>\n",
       "      <th>2234</th>\n",
       "      <td>1</td>\n",
       "      <td>0</td>\n",
       "    </tr>\n",
       "    <tr>\n",
       "      <th>2015</th>\n",
       "      <td>1</td>\n",
       "      <td>0</td>\n",
       "    </tr>\n",
       "    <tr>\n",
       "      <th>2686</th>\n",
       "      <td>1</td>\n",
       "      <td>0</td>\n",
       "    </tr>\n",
       "  </tbody>\n",
       "</table>\n",
       "</div>"
      ],
      "text/plain": [
       "      0  1\n",
       "681   0  1\n",
       "1293  0  1\n",
       "2234  1  0\n",
       "2015  1  0\n",
       "2686  1  0"
      ]
     },
     "execution_count": 28,
     "metadata": {},
     "output_type": "execute_result"
    }
   ],
   "source": [
    "train, test = train_test_split(voice, test_size=0.3)\n",
    "\n",
    "trainFeatures = train.iloc[:, :-1]\n",
    "trainLabel = train[\"label\"]\n",
    "testFeatures = test.iloc[:, :-1]\n",
    "testLabel = test[\"label\"]\n",
    "\n",
    "trainLabel=pd.get_dummies(trainLabel)\n",
    "testLabel=pd.get_dummies(testLabel)\n",
    "trainLabel.head()"
   ]
  },
  {
   "cell_type": "markdown",
   "metadata": {},
   "source": [
    "### All Features Model"
   ]
  },
  {
   "cell_type": "code",
   "execution_count": 33,
   "metadata": {},
   "outputs": [],
   "source": [
    "def create_train_model(hidden_nodes,iters):\n",
    "    #重置图形\n",
    "    tf.reset_default_graph()\n",
    "    #定义占位符\n",
    "    x=tf.placeholder(shape=(2217,20),dtype=tf.float64,name='x')\n",
    "    y=tf.placeholder(shape=(2217,2),dtype=tf.float64,name='y')\n",
    "    #定义weights\n",
    "    w1=tf.Variable(np.random.rand(20,hidden_nodes),dtype=tf.float64)\n",
    "    w2=tf.Variable(np.random.rand(hidden_nodes,2),dtype=tf.float64)\n",
    "    #创建神经网络图\n",
    "    a1=tf.sigmoid(tf.matmul(x,w1))\n",
    "    pred_y=tf.sigmoid(tf.matmul(a1,w2))\n",
    "    #cost function\n",
    "    delta=tf.square(pred_y-y)\n",
    "    loss=tf.reduce_sum(delta)\n",
    "    #定义最小化损失函数的训练操作\n",
    "    optimizer=tf.train.GradientDescentOptimizer(0.005)\n",
    "    train=optimizer.minimize(loss)\n",
    "    #初始化变量并运行会话\n",
    "    init=tf.global_variables_initializer()\n",
    "    sess=tf.Session()\n",
    "    sess.run(init)\n",
    "    #Iteration\n",
    "    for i in range(iters):\n",
    "        sess.run(train,feed_dict={x:trainFeatures,y:trainLabel})\n",
    "        loss_plot[hidden_nodes].append(sess.run(loss,feed_dict={\n",
    "            x:trainFeatures.as_matrix(),y:trainLabel.as_matrix()}))\n",
    "        weights1=sess.run(w1)\n",
    "        weights2=sess.run(w2)\n",
    "    print('loss(hidden nodes: %d, iterations: %d): %.2f'\n",
    "         %(hidden_nodes,iters,loss_plot[hidden_nodes][-1]))\n",
    "    return weights1,weights2"
   ]
  },
  {
   "cell_type": "code",
   "execution_count": 34,
   "metadata": {},
   "outputs": [
    {
     "name": "stdout",
     "output_type": "stream",
     "text": [
      "loss(hidden nodes: 5, iterations: 2000): 1049.52\n",
      "loss(hidden nodes: 10, iterations: 2000): 1262.82\n",
      "loss(hidden nodes: 20, iterations: 2000): 2204.00\n"
     ]
    },
    {
     "data": {
      "text/plain": [
       "<matplotlib.legend.Legend at 0x25419585748>"
      ]
     },
     "execution_count": 34,
     "metadata": {},
     "output_type": "execute_result"
    },
    {
     "data": {
      "image/png": "[encoded data removed]",
      "text/plain": [
       "<matplotlib.figure.Figure at 0x25419a18828>"
      ]
     },
     "metadata": {},
     "output_type": "display_data"
    }
   ],
   "source": [
    "#创建三种神经网络：4-5-3,4-10-3,4-20-3\n",
    "num_hidden_nodes=[5,10,20]\n",
    "loss_plot={5:[],10:[],20:[]}\n",
    "weights1={5:None,10:None,20:None}\n",
    "weights2={5:None,10:None,20:None}\n",
    "iters=2000\n",
    "plt.figure(figsize=(12,8))\n",
    "for hidden_nodes in num_hidden_nodes:\n",
    "    weights1[hidden_nodes],weights2[hidden_nodes]=create_train_model(hidden_nodes,iters)\n",
    "    plt.plot(range(iters),\n",
    "            loss_plot[hidden_nodes],\n",
    "            label='nn: 4-%d-3'%hidden_nodes)\n",
    "plt.xlabel('Iteration')\n",
    "plt.ylabel('Loss')\n",
    "plt.legend()"
   ]
  },
  {
   "cell_type": "code",
   "execution_count": 38,
   "metadata": {},
   "outputs": [
    {
     "name": "stdout",
     "output_type": "stream",
     "text": [
      "Network architacture 4-5-2, accuracy: 60.46%\n",
      "Network architacture 4-10-2, accuracy: 64.98%\n",
      "Network architacture 4-20-2, accuracy: 49.32%\n"
     ]
    }
   ],
   "source": [
    "x=tf.placeholder(shape=(951,20),dtype=tf.float64,name='x')\n",
    "y=tf.placeholder(shape=(951,2),dtype=tf.float64,name='y')\n",
    "for hidden_nodes in num_hidden_nodes:\n",
    "    w1=tf.Variable(weights1[hidden_nodes])\n",
    "    w2=tf.Variable(weights2[hidden_nodes])\n",
    "    a1=tf.sigmoid(tf.matmul(x,w1))\n",
    "    pred_y=tf.sigmoid(tf.matmul(a1,w2))\n",
    "    init=tf.global_variables_initializer()\n",
    "    with tf.Session() as sess:\n",
    "        sess.run(init)\n",
    "        pred_y_np=sess.run(pred_y,feed_dict={x:testFeatures,y:testLabel})\n",
    "    correct=[estimate.argmax(axis=0)==target.argmax(axis=0)\n",
    "            for estimate,target in zip(pred_y_np,testLabel.as_matrix())]\n",
    "    accuracy=100*sum(correct)/len(correct)\n",
    "    print('Network architacture 4-%d-2, accuracy: %.2f%%'\n",
    "         %(hidden_nodes,accuracy))  "
   ]
  },
  {
   "cell_type": "markdown",
   "metadata": {},
   "source": [
    "### Two Features Model"
   ]
  },
  {
   "cell_type": "code",
   "execution_count": 39,
   "metadata": {},
   "outputs": [
    {
     "data": {
      "text/html": [
       "<div>\n",
       "<style>\n",
       "    .dataframe thead tr:only-child th {\n",
       "        text-align: right;\n",
       "    }\n",
       "\n",
       "    .dataframe thead th {\n",
       "        text-align: left;\n",
       "    }\n",
       "\n",
       "    .dataframe tbody tr th {\n",
       "        vertical-align: top;\n",
       "    }\n",
       "</style>\n",
       "<table border=\"1\" class=\"dataframe\">\n",
       "  <thead>\n",
       "    <tr style=\"text-align: right;\">\n",
       "      <th></th>\n",
       "      <th>0</th>\n",
       "      <th>1</th>\n",
       "    </tr>\n",
       "  </thead>\n",
       "  <tbody>\n",
       "    <tr>\n",
       "      <th>681</th>\n",
       "      <td>0</td>\n",
       "      <td>1</td>\n",
       "    </tr>\n",
       "    <tr>\n",
       "      <th>1293</th>\n",
       "      <td>0</td>\n",
       "      <td>1</td>\n",
       "    </tr>\n",
       "    <tr>\n",
       "      <th>2234</th>\n",
       "      <td>1</td>\n",
       "      <td>0</td>\n",
       "    </tr>\n",
       "    <tr>\n",
       "      <th>2015</th>\n",
       "      <td>1</td>\n",
       "      <td>0</td>\n",
       "    </tr>\n",
       "    <tr>\n",
       "      <th>2686</th>\n",
       "      <td>1</td>\n",
       "      <td>0</td>\n",
       "    </tr>\n",
       "  </tbody>\n",
       "</table>\n",
       "</div>"
      ],
      "text/plain": [
       "      0  1\n",
       "681   0  1\n",
       "1293  0  1\n",
       "2234  1  0\n",
       "2015  1  0\n",
       "2686  1  0"
      ]
     },
     "execution_count": 39,
     "metadata": {},
     "output_type": "execute_result"
    }
   ],
   "source": [
    "trainFeatures2 = train[[\"IQR\",\"meanfun\"]]\n",
    "trainLabel2 = train[\"label\"]\n",
    "testFeatures2 = test[[\"IQR\",\"meanfun\"]]\n",
    "testLabel2 = test[\"label\"]\n",
    "\n",
    "trainLabel2=pd.get_dummies(trainLabel2)\n",
    "testLabel2=pd.get_dummies(testLabel2)\n",
    "trainLabel2.head()"
   ]
  },
  {
   "cell_type": "code",
   "execution_count": 42,
   "metadata": {},
   "outputs": [],
   "source": [
    "def create_train_model(hidden_nodes,iters):\n",
    "    #重置图形\n",
    "    tf.reset_default_graph()\n",
    "    #定义占位符\n",
    "    x=tf.placeholder(shape=(2217,2),dtype=tf.float64,name='x')\n",
    "    y=tf.placeholder(shape=(2217,2),dtype=tf.float64,name='y')\n",
    "    #定义weights\n",
    "    w1=tf.Variable(np.random.rand(2,hidden_nodes),dtype=tf.float64)\n",
    "    w2=tf.Variable(np.random.rand(hidden_nodes,2),dtype=tf.float64)\n",
    "    #创建神经网络图\n",
    "    a1=tf.sigmoid(tf.matmul(x,w1))\n",
    "    pred_y=tf.sigmoid(tf.matmul(a1,w2))\n",
    "    #cost function\n",
    "    delta=tf.square(pred_y-y)\n",
    "    loss=tf.reduce_sum(delta)\n",
    "    #定义最小化损失函数的训练操作\n",
    "    optimizer=tf.train.GradientDescentOptimizer(0.005)\n",
    "    train=optimizer.minimize(loss)\n",
    "    #初始化变量并运行会话\n",
    "    init=tf.global_variables_initializer()\n",
    "    sess=tf.Session()\n",
    "    sess.run(init)\n",
    "    #Iteration\n",
    "    for i in range(iters):\n",
    "        sess.run(train,feed_dict={x:trainFeatures2,y:trainLabel2})\n",
    "        loss_plot[hidden_nodes].append(sess.run(loss,feed_dict={\n",
    "            x:trainFeatures2.as_matrix(),y:trainLabel2.as_matrix()}))\n",
    "        weights1=sess.run(w1)\n",
    "        weights2=sess.run(w2)\n",
    "    print('loss(hidden nodes: %d, iterations: %d): %.2f'\n",
    "         %(hidden_nodes,iters,loss_plot[hidden_nodes][-1]))\n",
    "    return weights1,weights2"
   ]
  },
  {
   "cell_type": "code",
   "execution_count": 43,
   "metadata": {},
   "outputs": [
    {
     "name": "stdout",
     "output_type": "stream",
     "text": [
      "loss(hidden nodes: 5, iterations: 2000): 152.97\n",
      "loss(hidden nodes: 10, iterations: 2000): 138.56\n",
      "loss(hidden nodes: 20, iterations: 2000): 135.78\n"
     ]
    },
    {
     "data": {
      "text/plain": [
       "<matplotlib.legend.Legend at 0x2541b599a20>"
      ]
     },
     "execution_count": 43,
     "metadata": {},
     "output_type": "execute_result"
    },
    {
     "data": {
      "image/png": "[encoded data removed]",
      "text/plain": [
       "<matplotlib.figure.Figure at 0x25419e2f4a8>"
      ]
     },
     "metadata": {},
     "output_type": "display_data"
    }
   ],
   "source": [
    "#创建三种神经网络：4-5-3,4-10-3,4-20-3\n",
    "num_hidden_nodes=[5,10,20]\n",
    "loss_plot={5:[],10:[],20:[]}\n",
    "weights1={5:None,10:None,20:None}\n",
    "weights2={5:None,10:None,20:None}\n",
    "iters=2000\n",
    "plt.figure(figsize=(12,8))\n",
    "for hidden_nodes in num_hidden_nodes:\n",
    "    weights1[hidden_nodes],weights2[hidden_nodes]=create_train_model(hidden_nodes,iters)\n",
    "    plt.plot(range(iters),\n",
    "            loss_plot[hidden_nodes],\n",
    "            label='nn: 4-%d-3'%hidden_nodes)\n",
    "plt.xlabel('Iteration')\n",
    "plt.ylabel('Loss')\n",
    "plt.legend()"
   ]
  },
  {
   "cell_type": "code",
   "execution_count": 45,
   "metadata": {
    "scrolled": false
   },
   "outputs": [
    {
     "name": "stdout",
     "output_type": "stream",
     "text": [
      "Network architacture 4-5-2, accuracy: 96.11%\n",
      "Network architacture 4-10-2, accuracy: 96.21%\n",
      "Network architacture 4-20-2, accuracy: 96.11%\n"
     ]
    }
   ],
   "source": [
    "x=tf.placeholder(shape=(951,2),dtype=tf.float64,name='x')\n",
    "y=tf.placeholder(shape=(951,2),dtype=tf.float64,name='y')\n",
    "for hidden_nodes in num_hidden_nodes:\n",
    "    w1=tf.Variable(weights1[hidden_nodes])\n",
    "    w2=tf.Variable(weights2[hidden_nodes])\n",
    "    a1=tf.sigmoid(tf.matmul(x,w1))\n",
    "    pred_y=tf.sigmoid(tf.matmul(a1,w2))\n",
    "    init=tf.global_variables_initializer()\n",
    "    with tf.Session() as sess:\n",
    "        sess.run(init)\n",
    "        pred_y_np=sess.run(pred_y,feed_dict={x:testFeatures2,y:testLabel2})\n",
    "    correct=[estimate.argmax(axis=0)==target.argmax(axis=0)\n",
    "            for estimate,target in zip(pred_y_np,testLabel2.as_matrix())]\n",
    "    accuracy=100*sum(correct)/len(correct)\n",
    "    print('Network architacture 4-%d-2, accuracy: %.2f%%'\n",
    "         %(hidden_nodes,accuracy))  "
   ]
  },
  {
   "cell_type": "code",
   "execution_count": null,
   "metadata": {},
   "outputs": [],
   "source": []
  }
 ],
 "metadata": {
  "kernelspec": {
   "display_name": "Python 3",
   "language": "python",
   "name": "python3"
  },
  "language_info": {
   "codemirror_mode": {
    "name": "ipython",
    "version": 3
   },
   "file_extension": ".py",
   "mimetype": "text/x-python",
   "name": "python",
   "nbconvert_exporter": "python",
   "pygments_lexer": "ipython3",
   "version": "3.5.4"
  }
 },
 "nbformat": 4,
 "nbformat_minor": 2
}
