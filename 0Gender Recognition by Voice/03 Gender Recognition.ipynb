{
 "cells": [
  {
   "cell_type": "markdown",
   "metadata": {},
   "source": [
    "K-Nearest Neighbors, Naive Bayes, Decision Tree, Random Forest, XgBoost, Support Vector Machine, Neural Network"
   ]
  },
  {
   "cell_type": "code",
   "execution_count": 1,
   "metadata": {},
   "outputs": [
    {
     "name": "stderr",
     "output_type": "stream",
     "text": [
      "c:\\users\\qiaod\\appdata\\local\\programs\\python\\python35\\lib\\site-packages\\sklearn\\cross_validation.py:41: DeprecationWarning: This module was deprecated in version 0.18 in favor of the model_selection module into which all the refactored classes and functions are moved. Also note that the interface of the new CV iterators are different from that of this module. This module will be removed in 0.20.\n",
      "  \"This module will be removed in 0.20.\", DeprecationWarning)\n"
     ]
    }
   ],
   "source": [
    "import pandas as pd\n",
    "from sklearn import preprocessing\n",
    "from sklearn.model_selection import train_test_split\n",
    "from sklearn.metrics import accuracy_score\n",
    "from sklearn.cross_validation import cross_val_score\n",
    "import numpy as np\n",
    "import matplotlib.pyplot as plt\n",
    "\n",
    "from sklearn import neighbors\n",
    "from sklearn import naive_bayes\n",
    "from sklearn import tree\n",
    "from sklearn import ensemble\n",
    "from sklearn import svm\n",
    "from sklearn import neural_network\n",
    "import xgboost\n",
    "\n",
    "import warnings\n",
    "warnings.filterwarnings('ignore')"
   ]
  },
  {
   "cell_type": "code",
   "execution_count": 2,
   "metadata": {},
   "outputs": [
    {
     "data": {
      "text/html": [
       "<div>\n",
       "<style>\n",
       "    .dataframe thead tr:only-child th {\n",
       "        text-align: right;\n",
       "    }\n",
       "\n",
       "    .dataframe thead th {\n",
       "        text-align: left;\n",
       "    }\n",
       "\n",
       "    .dataframe tbody tr th {\n",
       "        vertical-align: top;\n",
       "    }\n",
       "</style>\n",
       "<table border=\"1\" class=\"dataframe\">\n",
       "  <thead>\n",
       "    <tr style=\"text-align: right;\">\n",
       "      <th></th>\n",
       "      <th>meanfreq</th>\n",
       "      <th>sd</th>\n",
       "      <th>median</th>\n",
       "      <th>Q25</th>\n",
       "      <th>Q75</th>\n",
       "      <th>IQR</th>\n",
       "      <th>skew</th>\n",
       "      <th>kurt</th>\n",
       "      <th>sp.ent</th>\n",
       "      <th>sfm</th>\n",
       "      <th>...</th>\n",
       "      <th>centroid</th>\n",
       "      <th>meanfun</th>\n",
       "      <th>minfun</th>\n",
       "      <th>maxfun</th>\n",
       "      <th>meandom</th>\n",
       "      <th>mindom</th>\n",
       "      <th>maxdom</th>\n",
       "      <th>dfrange</th>\n",
       "      <th>modindx</th>\n",
       "      <th>label</th>\n",
       "    </tr>\n",
       "  </thead>\n",
       "  <tbody>\n",
       "    <tr>\n",
       "      <th>0</th>\n",
       "      <td>0.059781</td>\n",
       "      <td>0.064241</td>\n",
       "      <td>0.032027</td>\n",
       "      <td>0.015071</td>\n",
       "      <td>0.090193</td>\n",
       "      <td>0.075122</td>\n",
       "      <td>12.863462</td>\n",
       "      <td>274.402906</td>\n",
       "      <td>0.893369</td>\n",
       "      <td>0.491918</td>\n",
       "      <td>...</td>\n",
       "      <td>0.059781</td>\n",
       "      <td>0.084279</td>\n",
       "      <td>0.015702</td>\n",
       "      <td>0.275862</td>\n",
       "      <td>0.007812</td>\n",
       "      <td>0.007812</td>\n",
       "      <td>0.007812</td>\n",
       "      <td>0.000000</td>\n",
       "      <td>0.000000</td>\n",
       "      <td>male</td>\n",
       "    </tr>\n",
       "    <tr>\n",
       "      <th>1</th>\n",
       "      <td>0.066009</td>\n",
       "      <td>0.067310</td>\n",
       "      <td>0.040229</td>\n",
       "      <td>0.019414</td>\n",
       "      <td>0.092666</td>\n",
       "      <td>0.073252</td>\n",
       "      <td>22.423285</td>\n",
       "      <td>634.613855</td>\n",
       "      <td>0.892193</td>\n",
       "      <td>0.513724</td>\n",
       "      <td>...</td>\n",
       "      <td>0.066009</td>\n",
       "      <td>0.107937</td>\n",
       "      <td>0.015826</td>\n",
       "      <td>0.250000</td>\n",
       "      <td>0.009014</td>\n",
       "      <td>0.007812</td>\n",
       "      <td>0.054688</td>\n",
       "      <td>0.046875</td>\n",
       "      <td>0.052632</td>\n",
       "      <td>male</td>\n",
       "    </tr>\n",
       "    <tr>\n",
       "      <th>2</th>\n",
       "      <td>0.077316</td>\n",
       "      <td>0.083829</td>\n",
       "      <td>0.036718</td>\n",
       "      <td>0.008701</td>\n",
       "      <td>0.131908</td>\n",
       "      <td>0.123207</td>\n",
       "      <td>30.757155</td>\n",
       "      <td>1024.927705</td>\n",
       "      <td>0.846389</td>\n",
       "      <td>0.478905</td>\n",
       "      <td>...</td>\n",
       "      <td>0.077316</td>\n",
       "      <td>0.098706</td>\n",
       "      <td>0.015656</td>\n",
       "      <td>0.271186</td>\n",
       "      <td>0.007990</td>\n",
       "      <td>0.007812</td>\n",
       "      <td>0.015625</td>\n",
       "      <td>0.007812</td>\n",
       "      <td>0.046512</td>\n",
       "      <td>male</td>\n",
       "    </tr>\n",
       "    <tr>\n",
       "      <th>3</th>\n",
       "      <td>0.151228</td>\n",
       "      <td>0.072111</td>\n",
       "      <td>0.158011</td>\n",
       "      <td>0.096582</td>\n",
       "      <td>0.207955</td>\n",
       "      <td>0.111374</td>\n",
       "      <td>1.232831</td>\n",
       "      <td>4.177296</td>\n",
       "      <td>0.963322</td>\n",
       "      <td>0.727232</td>\n",
       "      <td>...</td>\n",
       "      <td>0.151228</td>\n",
       "      <td>0.088965</td>\n",
       "      <td>0.017798</td>\n",
       "      <td>0.250000</td>\n",
       "      <td>0.201497</td>\n",
       "      <td>0.007812</td>\n",
       "      <td>0.562500</td>\n",
       "      <td>0.554688</td>\n",
       "      <td>0.247119</td>\n",
       "      <td>male</td>\n",
       "    </tr>\n",
       "    <tr>\n",
       "      <th>4</th>\n",
       "      <td>0.135120</td>\n",
       "      <td>0.079146</td>\n",
       "      <td>0.124656</td>\n",
       "      <td>0.078720</td>\n",
       "      <td>0.206045</td>\n",
       "      <td>0.127325</td>\n",
       "      <td>1.101174</td>\n",
       "      <td>4.333713</td>\n",
       "      <td>0.971955</td>\n",
       "      <td>0.783568</td>\n",
       "      <td>...</td>\n",
       "      <td>0.135120</td>\n",
       "      <td>0.106398</td>\n",
       "      <td>0.016931</td>\n",
       "      <td>0.266667</td>\n",
       "      <td>0.712812</td>\n",
       "      <td>0.007812</td>\n",
       "      <td>5.484375</td>\n",
       "      <td>5.476562</td>\n",
       "      <td>0.208274</td>\n",
       "      <td>male</td>\n",
       "    </tr>\n",
       "  </tbody>\n",
       "</table>\n",
       "<p>5 rows × 21 columns</p>\n",
       "</div>"
      ],
      "text/plain": [
       "   meanfreq        sd    median       Q25       Q75       IQR       skew  \\\n",
       "0  0.059781  0.064241  0.032027  0.015071  0.090193  0.075122  12.863462   \n",
       "1  0.066009  0.067310  0.040229  0.019414  0.092666  0.073252  22.423285   \n",
       "2  0.077316  0.083829  0.036718  0.008701  0.131908  0.123207  30.757155   \n",
       "3  0.151228  0.072111  0.158011  0.096582  0.207955  0.111374   1.232831   \n",
       "4  0.135120  0.079146  0.124656  0.078720  0.206045  0.127325   1.101174   \n",
       "\n",
       "          kurt    sp.ent       sfm  ...    centroid   meanfun    minfun  \\\n",
       "0   274.402906  0.893369  0.491918  ...    0.059781  0.084279  0.015702   \n",
       "1   634.613855  0.892193  0.513724  ...    0.066009  0.107937  0.015826   \n",
       "2  1024.927705  0.846389  0.478905  ...    0.077316  0.098706  0.015656   \n",
       "3     4.177296  0.963322  0.727232  ...    0.151228  0.088965  0.017798   \n",
       "4     4.333713  0.971955  0.783568  ...    0.135120  0.106398  0.016931   \n",
       "\n",
       "     maxfun   meandom    mindom    maxdom   dfrange   modindx  label  \n",
       "0  0.275862  0.007812  0.007812  0.007812  0.000000  0.000000   male  \n",
       "1  0.250000  0.009014  0.007812  0.054688  0.046875  0.052632   male  \n",
       "2  0.271186  0.007990  0.007812  0.015625  0.007812  0.046512   male  \n",
       "3  0.250000  0.201497  0.007812  0.562500  0.554688  0.247119   male  \n",
       "4  0.266667  0.712812  0.007812  5.484375  5.476562  0.208274   male  \n",
       "\n",
       "[5 rows x 21 columns]"
      ]
     },
     "execution_count": 2,
     "metadata": {},
     "output_type": "execute_result"
    }
   ],
   "source": [
    "voice = pd.read_csv(\"voice.csv\", header=0)\n",
    "voice.head()"
   ]
  },
  {
   "cell_type": "code",
   "execution_count": 3,
   "metadata": {},
   "outputs": [
    {
     "data": {
      "text/plain": [
       "array(['female', 'male'], dtype=object)"
      ]
     },
     "execution_count": 3,
     "metadata": {},
     "output_type": "execute_result"
    }
   ],
   "source": [
    "le = preprocessing.LabelEncoder()\n",
    "voice[\"label\"] = le.fit_transform(voice[\"label\"])\n",
    "le.classes_"
   ]
  },
  {
   "cell_type": "code",
   "execution_count": 4,
   "metadata": {},
   "outputs": [],
   "source": [
    "# normalization and split data\n",
    "voice[:]=preprocessing.MinMaxScaler().fit_transform(voice)\n",
    "train, test = train_test_split(voice, test_size=0.3)"
   ]
  },
  {
   "cell_type": "code",
   "execution_count": 5,
   "metadata": {},
   "outputs": [],
   "source": [
    "x_train = train.iloc[:, :-1]\n",
    "y_train = train[\"label\"]\n",
    "x_test = test.iloc[:, :-1]\n",
    "y_test = test[\"label\"]"
   ]
  },
  {
   "cell_type": "code",
   "execution_count": 6,
   "metadata": {},
   "outputs": [],
   "source": [
    "x_train2 = train[[\"IQR\",\"meanfun\"]]\n",
    "y_train2 = train[\"label\"]\n",
    "x_test2 = test[[\"IQR\",\"meanfun\"]]\n",
    "y_test2 = test[\"label\"]"
   ]
  },
  {
   "cell_type": "code",
   "execution_count": 7,
   "metadata": {},
   "outputs": [],
   "source": [
    "x_train3 = train[[\"meanfun\",\"IQR\",\"Q25\"]]\n",
    "y_train3 = train[\"label\"]\n",
    "x_test3 = test[[\"meanfun\",\"IQR\",\"Q25\"]]\n",
    "y_test3 = test[\"label\"]"
   ]
  },
  {
   "cell_type": "code",
   "execution_count": null,
   "metadata": {},
   "outputs": [],
   "source": []
  },
  {
   "cell_type": "code",
   "execution_count": 8,
   "metadata": {},
   "outputs": [],
   "source": [
    "def classify(model,x_train,y_train,x_test,y_test):\n",
    "    from sklearn.metrics import classification_report\n",
    "    target_names = ['female', 'male']\n",
    "    model.fit(x_train,y_train)\n",
    "    y_pred=model.predict(x_test)\n",
    "    print(classification_report(y_test, y_pred, target_names=target_names, digits=4))"
   ]
  },
  {
   "cell_type": "markdown",
   "metadata": {},
   "source": [
    "## K-Nearest Neighbors\n",
    "Using neighbors.KNeighborsClassifier() to build the model."
   ]
  },
  {
   "cell_type": "code",
   "execution_count": 17,
   "metadata": {},
   "outputs": [],
   "source": [
    "def knn_error(k,x_train,y_train,x_test,y_test):\n",
    "    error_rate = []\n",
    "    K=range(1,k)\n",
    "    for i in K:\n",
    "        knn = neighbors.KNeighborsClassifier(n_neighbors = i)\n",
    "        knn.fit(x_train, y_train)\n",
    "        y_pred = knn.predict(x_test)\n",
    "        error_rate.append(np.mean(y_pred != y_test))\n",
    "    kloc = error_rate.index(min(error_rate))\n",
    "    print(\"Lowest error is %s occurs at k=%s.\" % (error_rate[kloc], K[kloc]))\n",
    "\n",
    "    plt.plot(K, error_rate, color='blue', linestyle='dashed', marker='o',\n",
    "             markerfacecolor='red', markersize=10)\n",
    "    plt.title('Error Rate vs. K Value')\n",
    "    plt.xlabel('K')\n",
    "    plt.ylabel('Error Rate')\n",
    "    plt.show()\n",
    "    return K[kloc]"
   ]
  },
  {
   "cell_type": "code",
   "execution_count": 18,
   "metadata": {},
   "outputs": [
    {
     "name": "stdout",
     "output_type": "stream",
     "text": [
      "Lowest error is 0.013669821240799159 occurs at k=10.\n"
     ]
    },
    {
     "data": {
      "image/png": "[encoded data removed]",
      "text/plain": [
       "<matplotlib.figure.Figure at 0x19bfad50d68>"
      ]
     },
     "metadata": {},
     "output_type": "display_data"
    }
   ],
   "source": [
    "k=knn_error(21,x_train,y_train,x_test,y_test)"
   ]
  },
  {
   "cell_type": "code",
   "execution_count": 19,
   "metadata": {},
   "outputs": [
    {
     "name": "stdout",
     "output_type": "stream",
     "text": [
      "             precision    recall  f1-score   support\n",
      "\n",
      "     female     0.9893    0.9830    0.9862       471\n",
      "       male     0.9834    0.9896    0.9865       480\n",
      "\n",
      "avg / total     0.9863    0.9863    0.9863       951\n",
      "\n"
     ]
    }
   ],
   "source": [
    "model = neighbors.KNeighborsClassifier(n_neighbors = k)\n",
    "classify(model,x_train,y_train,x_test,y_test)"
   ]
  },
  {
   "cell_type": "code",
   "execution_count": 20,
   "metadata": {},
   "outputs": [
    {
     "name": "stdout",
     "output_type": "stream",
     "text": [
      "Lowest error is 0.027339642481598318 occurs at k=11.\n"
     ]
    },
    {
     "data": {
      "image/png": "[encoded data removed]",
      "text/plain": [
       "<matplotlib.figure.Figure at 0x19bfac501d0>"
      ]
     },
     "metadata": {},
     "output_type": "display_data"
    }
   ],
   "source": [
    "k=knn_error(21,x_train2,y_train2,x_test2,y_test2)"
   ]
  },
  {
   "cell_type": "code",
   "execution_count": 21,
   "metadata": {},
   "outputs": [
    {
     "name": "stdout",
     "output_type": "stream",
     "text": [
      "             precision    recall  f1-score   support\n",
      "\n",
      "     female     0.9806    0.9639    0.9722       471\n",
      "       male     0.9652    0.9812    0.9731       480\n",
      "\n",
      "avg / total     0.9728    0.9727    0.9727       951\n",
      "\n"
     ]
    }
   ],
   "source": [
    "model = neighbors.KNeighborsClassifier(n_neighbors = k)\n",
    "classify(model,x_train2,y_train2,x_test2,y_test2)"
   ]
  },
  {
   "cell_type": "code",
   "execution_count": 22,
   "metadata": {},
   "outputs": [
    {
     "name": "stdout",
     "output_type": "stream",
     "text": [
      "Lowest error is 0.022082018927444796 occurs at k=7.\n"
     ]
    },
    {
     "data": {
      "image/png": "[encoded data removed]",
      "text/plain": [
       "<matplotlib.figure.Figure at 0x19bfcdcb240>"
      ]
     },
     "metadata": {},
     "output_type": "display_data"
    }
   ],
   "source": [
    "k=knn_error(21,x_train3,y_train3,x_test3,y_test3)"
   ]
  },
  {
   "cell_type": "code",
   "execution_count": 23,
   "metadata": {},
   "outputs": [
    {
     "name": "stdout",
     "output_type": "stream",
     "text": [
      "             precision    recall  f1-score   support\n",
      "\n",
      "     female     0.9871    0.9745    0.9808       471\n",
      "       male     0.9753    0.9875    0.9814       480\n",
      "\n",
      "avg / total     0.9811    0.9811    0.9811       951\n",
      "\n"
     ]
    }
   ],
   "source": [
    "model = neighbors.KNeighborsClassifier(n_neighbors = k)\n",
    "classify(model,x_train,y_train,x_test,y_test)"
   ]
  },
  {
   "cell_type": "markdown",
   "metadata": {},
   "source": [
    "## Naive Bayes\n",
    "Using naive_bayes.GaussianNB() to build the model."
   ]
  },
  {
   "cell_type": "code",
   "execution_count": 24,
   "metadata": {},
   "outputs": [
    {
     "name": "stdout",
     "output_type": "stream",
     "text": [
      "             precision    recall  f1-score   support\n",
      "\n",
      "     female     0.9289    0.8875    0.9077       471\n",
      "       male     0.8942    0.9333    0.9134       480\n",
      "\n",
      "avg / total     0.9114    0.9106    0.9106       951\n",
      "\n"
     ]
    }
   ],
   "source": [
    "model=naive_bayes.GaussianNB()\n",
    "classify(model,x_train,y_train,x_test,y_test)"
   ]
  },
  {
   "cell_type": "code",
   "execution_count": 25,
   "metadata": {},
   "outputs": [
    {
     "name": "stdout",
     "output_type": "stream",
     "text": [
      "             precision    recall  f1-score   support\n",
      "\n",
      "     female     0.9805    0.9597    0.9700       471\n",
      "       male     0.9612    0.9812    0.9711       480\n",
      "\n",
      "avg / total     0.9708    0.9706    0.9706       951\n",
      "\n"
     ]
    }
   ],
   "source": [
    "model=naive_bayes.GaussianNB()\n",
    "classify(model,x_train2,y_train2,x_test2,y_test2)"
   ]
  },
  {
   "cell_type": "code",
   "execution_count": 26,
   "metadata": {},
   "outputs": [
    {
     "name": "stdout",
     "output_type": "stream",
     "text": [
      "             precision    recall  f1-score   support\n",
      "\n",
      "     female     0.9847    0.9575    0.9709       471\n",
      "       male     0.9594    0.9854    0.9723       480\n",
      "\n",
      "avg / total     0.9720    0.9716    0.9716       951\n",
      "\n"
     ]
    }
   ],
   "source": [
    "model=naive_bayes.GaussianNB()\n",
    "classify(model,x_train3,y_train3,x_test3,y_test3)"
   ]
  },
  {
   "cell_type": "markdown",
   "metadata": {},
   "source": [
    "## Decision Tree\n",
    "Using tree.DecisionTreeClassifier() to build the model."
   ]
  },
  {
   "cell_type": "code",
   "execution_count": 27,
   "metadata": {},
   "outputs": [],
   "source": [
    "#Find the best parameter to prune the tree\n",
    "def dt_error(n,x_train,y_train,x_test,y_test):\n",
    "    nodes = range(2, n)\n",
    "    error_rate = []\n",
    "    for k in nodes:\n",
    "        model = tree.DecisionTreeClassifier(max_leaf_nodes=k)\n",
    "        loss = -cross_val_score(model, x_train, y_train, cv=10, scoring='mean_squared_error')\n",
    "        error_rate.append(loss.mean())\n",
    "    kloc = error_rate.index(min(error_rate))\n",
    "    print(\"Lowest error is %s occurs at n=%s.\" % (error_rate[kloc], nodes[kloc]))\n",
    "    plt.plot(nodes, error_rate, color='blue', linestyle='dashed', marker='o',\n",
    "             markerfacecolor='red', markersize=10)\n",
    "    plt.xlabel('Tree Size')\n",
    "    plt.ylabel('Cross-Validated MSE')\n",
    "    plt.show()\n",
    "    return nodes[kloc]"
   ]
  },
  {
   "cell_type": "code",
   "execution_count": 28,
   "metadata": {},
   "outputs": [
    {
     "name": "stdout",
     "output_type": "stream",
     "text": [
      "Lowest error is 0.030667721066032855 occurs at n=8.\n"
     ]
    },
    {
     "data": {
      "image/png": "[encoded data removed]",
      "text/plain": [
       "<matplotlib.figure.Figure at 0x19bfddd0cc0>"
      ]
     },
     "metadata": {},
     "output_type": "display_data"
    }
   ],
   "source": [
    "n=dt_error(10,x_train,y_train,x_test,y_test)"
   ]
  },
  {
   "cell_type": "code",
   "execution_count": 29,
   "metadata": {
    "scrolled": true
   },
   "outputs": [
    {
     "name": "stdout",
     "output_type": "stream",
     "text": [
      "             precision    recall  f1-score   support\n",
      "\n",
      "     female     0.9662    0.9724    0.9693       471\n",
      "       male     0.9727    0.9667    0.9697       480\n",
      "\n",
      "avg / total     0.9695    0.9695    0.9695       951\n",
      "\n"
     ]
    }
   ],
   "source": [
    "#prune tree\n",
    "pruned_tree = tree.DecisionTreeClassifier(criterion = 'gini', max_leaf_nodes = n)\n",
    "classify(pruned_tree,x_train,y_train,x_test,y_test)"
   ]
  },
  {
   "cell_type": "code",
   "execution_count": null,
   "metadata": {},
   "outputs": [],
   "source": [
    "from IPython.display import Image\n",
    "import pydotplus\n",
    "import os\n",
    "os.environ[\"PATH\"] += os.pathsep + \"C:/Program Files (x86)/Graphviz2.38/bin\"\n",
    "dot_data = tree.export_graphviz(pruned_tree, out_file=None,\n",
    "                                feature_names = x_train.columns,\n",
    "                                class_names = [\"female\", \"male\"],\n",
    "                                filled = True)\n",
    "graph = pydotplus.graph_from_dot_data(dot_data)\n",
    "#save as pdf\n",
    "# graph.write_pdf(\"AllFeaturesTree.pdf\")\n",
    "Image(graph.create_png())"
   ]
  },
  {
   "cell_type": "code",
   "execution_count": 30,
   "metadata": {
    "scrolled": false
   },
   "outputs": [
    {
     "name": "stdout",
     "output_type": "stream",
     "text": [
      "Lowest error is 0.03608337249856638 occurs at n=8.\n"
     ]
    },
    {
     "data": {
      "image/png": "[encoded data removed]",
      "text/plain": [
       "<matplotlib.figure.Figure at 0x19bfddea550>"
      ]
     },
     "metadata": {},
     "output_type": "display_data"
    }
   ],
   "source": [
    "n=dt_error(10,x_train2,y_train2,x_test2,y_test2)"
   ]
  },
  {
   "cell_type": "code",
   "execution_count": 31,
   "metadata": {},
   "outputs": [
    {
     "name": "stdout",
     "output_type": "stream",
     "text": [
      "             precision    recall  f1-score   support\n",
      "\n",
      "     female     0.9763    0.9618    0.9690       471\n",
      "       male     0.9630    0.9771    0.9700       480\n",
      "\n",
      "avg / total     0.9696    0.9695    0.9695       951\n",
      "\n"
     ]
    }
   ],
   "source": [
    "#prune tree\n",
    "pruned_tree = tree.DecisionTreeClassifier(criterion = 'gini', max_leaf_nodes = n)\n",
    "classify(pruned_tree,x_train2,y_train2,x_test2,y_test2)"
   ]
  },
  {
   "cell_type": "code",
   "execution_count": 32,
   "metadata": {},
   "outputs": [
    {
     "ename": "NameError",
     "evalue": "name 'os' is not defined",
     "output_type": "error",
     "traceback": [
      "\u001b[1;31m---------------------------------------------------------------------------\u001b[0m",
      "\u001b[1;31mNameError\u001b[0m                                 Traceback (most recent call last)",
      "\u001b[1;32m<ipython-input-32-8a279ad9c55e>\u001b[0m in \u001b[0;36m<module>\u001b[1;34m()\u001b[0m\n\u001b[1;32m----> 1\u001b[1;33m \u001b[0mos\u001b[0m\u001b[1;33m.\u001b[0m\u001b[0menviron\u001b[0m\u001b[1;33m[\u001b[0m\u001b[1;34m\"PATH\"\u001b[0m\u001b[1;33m]\u001b[0m \u001b[1;33m+=\u001b[0m \u001b[0mos\u001b[0m\u001b[1;33m.\u001b[0m\u001b[0mpathsep\u001b[0m \u001b[1;33m+\u001b[0m \u001b[1;34m\"C:/Program Files (x86)/Graphviz2.38/bin\"\u001b[0m\u001b[1;33m\u001b[0m\u001b[0m\n\u001b[0m\u001b[0;32m      2\u001b[0m dot_data = tree.export_graphviz(pruned_tree, out_file=None,\n\u001b[0;32m      3\u001b[0m                                 \u001b[0mfeature_names\u001b[0m \u001b[1;33m=\u001b[0m \u001b[0mx_train2\u001b[0m\u001b[1;33m.\u001b[0m\u001b[0mcolumns\u001b[0m\u001b[1;33m,\u001b[0m\u001b[1;33m\u001b[0m\u001b[0m\n\u001b[0;32m      4\u001b[0m                                 \u001b[0mclass_names\u001b[0m \u001b[1;33m=\u001b[0m \u001b[1;33m[\u001b[0m\u001b[1;34m\"female\"\u001b[0m\u001b[1;33m,\u001b[0m \u001b[1;34m\"male\"\u001b[0m\u001b[1;33m]\u001b[0m\u001b[1;33m,\u001b[0m\u001b[1;33m\u001b[0m\u001b[0m\n\u001b[0;32m      5\u001b[0m                                 filled = True)\n",
      "\u001b[1;31mNameError\u001b[0m: name 'os' is not defined"
     ]
    }
   ],
   "source": [
    "os.environ[\"PATH\"] += os.pathsep + \"C:/Program Files (x86)/Graphviz2.38/bin\"\n",
    "dot_data = tree.export_graphviz(pruned_tree, out_file=None,\n",
    "                                feature_names = x_train2.columns,\n",
    "                                class_names = [\"female\", \"male\"],\n",
    "                                filled = True)\n",
    "graph = pydotplus.graph_from_dot_data(dot_data)\n",
    "#save as pdf\n",
    "# graph.write_pdf(\"AllFeaturesTree.pdf\")\n",
    "Image(graph.create_png())"
   ]
  },
  {
   "cell_type": "code",
   "execution_count": 33,
   "metadata": {},
   "outputs": [
    {
     "name": "stdout",
     "output_type": "stream",
     "text": [
      "Lowest error is 0.034273417747435156 occurs at n=7.\n"
     ]
    },
    {
     "data": {
      "image/png": "[encoded data removed]",
      "text/plain": [
       "<matplotlib.figure.Figure at 0x19bfde0dfd0>"
      ]
     },
     "metadata": {},
     "output_type": "display_data"
    }
   ],
   "source": [
    "n=dt_error(10,x_train3,y_train3,x_test3,y_test3)"
   ]
  },
  {
   "cell_type": "code",
   "execution_count": 34,
   "metadata": {},
   "outputs": [
    {
     "name": "stdout",
     "output_type": "stream",
     "text": [
      "             precision    recall  f1-score   support\n",
      "\n",
      "     female     0.9623    0.9745    0.9684       471\n",
      "       male     0.9747    0.9625    0.9686       480\n",
      "\n",
      "avg / total     0.9685    0.9685    0.9685       951\n",
      "\n"
     ]
    }
   ],
   "source": [
    "#prune tree\n",
    "pruned_tree = tree.DecisionTreeClassifier(criterion = 'gini', max_leaf_nodes = n)\n",
    "classify(pruned_tree,x_train3,y_train3,x_test3,y_test3)"
   ]
  },
  {
   "cell_type": "code",
   "execution_count": null,
   "metadata": {},
   "outputs": [],
   "source": [
    "os.environ[\"PATH\"] += os.pathsep + \"C:/Program Files (x86)/Graphviz2.38/bin\"\n",
    "dot_data = tree.export_graphviz(pruned_tree, out_file=None,\n",
    "                                feature_names = x_train3.columns,\n",
    "                                class_names = [\"female\", \"male\"],\n",
    "                                filled = True)\n",
    "graph = pydotplus.graph_from_dot_data(dot_data)\n",
    "#save as pdf\n",
    "# graph.write_pdf(\"AllFeaturesTree.pdf\")\n",
    "Image(graph.create_png())"
   ]
  },
  {
   "cell_type": "markdown",
   "metadata": {},
   "source": [
    "## Random Forest\n",
    "Using ensemble.RandomForestClassifier() to build the model."
   ]
  },
  {
   "cell_type": "code",
   "execution_count": 35,
   "metadata": {},
   "outputs": [],
   "source": [
    "def rf_error(n,x_train,y_train,x_test,y_test):\n",
    "    error_rate = []\n",
    "    e=range(1,n,20)\n",
    "    for i in e:\n",
    "        model = ensemble.RandomForestClassifier(n_estimators = i)\n",
    "        model.fit(x_train, y_train)\n",
    "        y_pred = model.predict(x_test)\n",
    "        error_rate.append(np.mean(y_pred != y_test))\n",
    "    nloc = error_rate.index(min(error_rate))\n",
    "    print(\"Lowest error is %s occurs at n=%s.\" % (error_rate[nloc], e[nloc]))\n",
    "\n",
    "    plt.plot(e, error_rate, color='blue', linestyle='dashed', marker='o',\n",
    "             markerfacecolor='red', markersize=10)\n",
    "    plt.title('Error Rate vs. n Value')\n",
    "    plt.xlabel('n')\n",
    "    plt.ylabel('Error Rate')\n",
    "    plt.show()\n",
    "    return e[nloc]"
   ]
  },
  {
   "cell_type": "code",
   "execution_count": 36,
   "metadata": {},
   "outputs": [
    {
     "name": "stdout",
     "output_type": "stream",
     "text": [
      "Lowest error is 0.016824395373291272 occurs at n=61.\n"
     ]
    },
    {
     "data": {
      "image/png": "[encoded data removed]",
      "text/plain": [
       "<matplotlib.figure.Figure at 0x19bfdf045c0>"
      ]
     },
     "metadata": {},
     "output_type": "display_data"
    }
   ],
   "source": [
    "e=rf_error(300,x_train,y_train,x_test,y_test)"
   ]
  },
  {
   "cell_type": "code",
   "execution_count": 37,
   "metadata": {},
   "outputs": [
    {
     "name": "stdout",
     "output_type": "stream",
     "text": [
      "             precision    recall  f1-score   support\n",
      "\n",
      "     female     0.9809    0.9788    0.9798       471\n",
      "       male     0.9792    0.9812    0.9802       480\n",
      "\n",
      "avg / total     0.9800    0.9800    0.9800       951\n",
      "\n"
     ]
    }
   ],
   "source": [
    "model=ensemble.RandomForestClassifier(n_estimators = e)\n",
    "classify(model,x_train,y_train,x_test,y_test)"
   ]
  },
  {
   "cell_type": "code",
   "execution_count": null,
   "metadata": {},
   "outputs": [],
   "source": [
    "e=rf_error(300,x_train2,y_train2,x_test2,y_test2)"
   ]
  },
  {
   "cell_type": "code",
   "execution_count": null,
   "metadata": {},
   "outputs": [],
   "source": [
    "model=ensemble.RandomForestClassifier(n_estimators = e)\n",
    "classify(model,x_train2,y_train2,x_test2,y_test2)"
   ]
  },
  {
   "cell_type": "code",
   "execution_count": null,
   "metadata": {},
   "outputs": [],
   "source": [
    "e=rf_error(300,x_train3,y_train3,x_test3,y_test3)"
   ]
  },
  {
   "cell_type": "code",
   "execution_count": null,
   "metadata": {},
   "outputs": [],
   "source": [
    "model=ensemble.RandomForestClassifier(n_estimators = e)\n",
    "classify(model,x_train3,y_train3,x_test3,y_test3)"
   ]
  },
  {
   "cell_type": "markdown",
   "metadata": {},
   "source": [
    "## XgBoost\n",
    "Using xgboost.XGBClassifier() to build the model."
   ]
  },
  {
   "cell_type": "code",
   "execution_count": null,
   "metadata": {},
   "outputs": [],
   "source": [
    "model = xgboost.XGBClassifier()\n",
    "classify(model,x_train,y_train,x_test,y_test)"
   ]
  },
  {
   "cell_type": "code",
   "execution_count": null,
   "metadata": {},
   "outputs": [],
   "source": [
    "model = xgboost.XGBClassifier()\n",
    "classify(model,x_train2,y_train2,x_test2,y_test2)"
   ]
  },
  {
   "cell_type": "code",
   "execution_count": null,
   "metadata": {},
   "outputs": [],
   "source": [
    "model = xgboost.XGBClassifier()\n",
    "classify(model,x_train3,y_train3,x_test3,y_test3)"
   ]
  },
  {
   "cell_type": "markdown",
   "metadata": {},
   "source": [
    "## Support Vector Machine\n",
    "Using svm.SVC() to build the model."
   ]
  },
  {
   "cell_type": "code",
   "execution_count": 50,
   "metadata": {},
   "outputs": [],
   "source": [
    "def svm_kernel(x_train,y_train,x_test,y_test):\n",
    "    rate=[]\n",
    "    kernel=['rbf','poly','linear']\n",
    "    for i in kernel:\n",
    "        model=svm.SVC(kernel=i).fit(x_train,y_train)\n",
    "        y_pred=model.predict(x_train)\n",
    "        print(i, ' in-sample accuracy in SVM: ', accuracy_score(y_train,y_pred))\n",
    "        y_pred=model.predict(x_test)\n",
    "        print(i, ' out-of-sample accuracy in SVM: ', accuracy_score(y_test,y_pred))\n",
    "        rate.append(accuracy_score(y_test,y_pred))\n",
    "    nloc = rate.index(max(rate))\n",
    "    print(\"Highest accuracy is %s occurs at %s kernel.\" % (rate[nloc], kernel[nloc]))\n",
    "    return kernel[nloc]"
   ]
  },
  {
   "cell_type": "code",
   "execution_count": 51,
   "metadata": {},
   "outputs": [],
   "source": [
    "def svm_error(k,C,x_train,y_train,x_test,y_test):\n",
    "    error_rate = []\n",
    "    C=range(1,C)\n",
    "    for i in C:\n",
    "        model=svm.SVC(kernel=k,C=i).fit(x_train,y_train)\n",
    "        model.fit(x_train, y_train)\n",
    "        y_pred = model.predict(x_test)\n",
    "        error_rate.append(np.mean(y_pred != y_test))\n",
    "    cloc = error_rate.index(min(error_rate))\n",
    "    print(\"Lowest error is %s occurs at C=%s.\" % (error_rate[cloc], C[cloc]))\n",
    "\n",
    "    plt.plot(C, error_rate, color='blue', linestyle='dashed', marker='o',\n",
    "             markerfacecolor='red', markersize=10)\n",
    "    plt.title('Error Rate vs. C Value')\n",
    "    plt.xlabel('C')\n",
    "    plt.ylabel('Error Rate')\n",
    "    plt.show()\n",
    "    return C[cloc]"
   ]
  },
  {
   "cell_type": "code",
   "execution_count": 52,
   "metadata": {},
   "outputs": [
    {
     "name": "stdout",
     "output_type": "stream",
     "text": [
      "rbf  in-sample accuracy in SVM:  0.9652683806946324\n",
      "rbf  out-of-sample accuracy in SVM:  0.9726603575184016\n",
      "poly  in-sample accuracy in SVM:  0.8741542625169147\n",
      "poly  out-of-sample accuracy in SVM:  0.8759200841219769\n",
      "linear  in-sample accuracy in SVM:  0.9715832205683356\n",
      "linear  out-of-sample accuracy in SVM:  0.9789695057833859\n",
      "Highest accuracy is 0.9789695057833859 occurs at linear kernel.\n"
     ]
    }
   ],
   "source": [
    "k=svm_kernel(x_train,y_train,x_test,y_test)"
   ]
  },
  {
   "cell_type": "code",
   "execution_count": 54,
   "metadata": {
    "scrolled": true
   },
   "outputs": [
    {
     "name": "stdout",
     "output_type": "stream",
     "text": [
      "Lowest error is 0.01892744479495268 occurs at C=3.\n"
     ]
    },
    {
     "data": {
      "image/png": "[encoded data removed]",
      "text/plain": [
       "<matplotlib.figure.Figure at 0x19bfdf4e400>"
      ]
     },
     "metadata": {},
     "output_type": "display_data"
    }
   ],
   "source": [
    "c=svm_error(k,10,x_train,y_train,x_test,y_test)"
   ]
  },
  {
   "cell_type": "code",
   "execution_count": 55,
   "metadata": {},
   "outputs": [
    {
     "name": "stdout",
     "output_type": "stream",
     "text": [
      "             precision    recall  f1-score   support\n",
      "\n",
      "     female     0.9850    0.9766    0.9808       471\n",
      "       male     0.9773    0.9854    0.9813       480\n",
      "\n",
      "avg / total     0.9811    0.9811    0.9811       951\n",
      "\n"
     ]
    }
   ],
   "source": [
    "model=svm.SVC(kernel=k,C=c)\n",
    "classify(model,x_train,y_train,x_test,y_test)"
   ]
  },
  {
   "cell_type": "code",
   "execution_count": 56,
   "metadata": {},
   "outputs": [
    {
     "name": "stdout",
     "output_type": "stream",
     "text": [
      "rbf  in-sample accuracy in SVM:  0.9643662607126748\n",
      "rbf  out-of-sample accuracy in SVM:  0.9663512092534174\n",
      "poly  in-sample accuracy in SVM:  0.9305367613892648\n",
      "poly  out-of-sample accuracy in SVM:  0.9221871713985279\n",
      "linear  in-sample accuracy in SVM:  0.9621109607577808\n",
      "linear  out-of-sample accuracy in SVM:  0.961093585699264\n",
      "Highest accuracy is 0.9663512092534174 occurs at rbf kernel.\n"
     ]
    }
   ],
   "source": [
    "k=svm_kernel(x_train2,y_train2,x_test2,y_test2)"
   ]
  },
  {
   "cell_type": "code",
   "execution_count": 57,
   "metadata": {
    "scrolled": true
   },
   "outputs": [
    {
     "name": "stdout",
     "output_type": "stream",
     "text": [
      "Lowest error is 0.028391167192429023 occurs at C=5.\n"
     ]
    },
    {
     "data": {
      "image/png": "[encoded data removed]",
      "text/plain": [
       "<matplotlib.figure.Figure at 0x19bfdec1358>"
      ]
     },
     "metadata": {},
     "output_type": "display_data"
    }
   ],
   "source": [
    "c=svm_error(k,10,x_train2,y_train2,x_test2,y_test2)"
   ]
  },
  {
   "cell_type": "code",
   "execution_count": 58,
   "metadata": {},
   "outputs": [
    {
     "name": "stdout",
     "output_type": "stream",
     "text": [
      "             precision    recall  f1-score   support\n",
      "\n",
      "     female     0.9847    0.9575    0.9709       471\n",
      "       male     0.9594    0.9854    0.9723       480\n",
      "\n",
      "avg / total     0.9720    0.9716    0.9716       951\n",
      "\n"
     ]
    }
   ],
   "source": [
    "model=svm.SVC(kernel=k,C=c)\n",
    "classify(model,x_train2,y_train2,x_test2,y_test2)"
   ]
  },
  {
   "cell_type": "code",
   "execution_count": 60,
   "metadata": {},
   "outputs": [
    {
     "name": "stdout",
     "output_type": "stream",
     "text": [
      "rbf  in-sample accuracy in SVM:  0.9657194406856112\n",
      "rbf  out-of-sample accuracy in SVM:  0.9726603575184016\n",
      "poly  in-sample accuracy in SVM:  0.939106901217862\n",
      "poly  out-of-sample accuracy in SVM:  0.9474237644584648\n",
      "linear  in-sample accuracy in SVM:  0.9661705006765899\n",
      "linear  out-of-sample accuracy in SVM:  0.9695057833859095\n",
      "Highest accuracy is 0.9726603575184016 occurs at rbf kernel.\n"
     ]
    }
   ],
   "source": [
    "k=svm_kernel(x_train3,y_train3,x_test3,y_test3)"
   ]
  },
  {
   "cell_type": "code",
   "execution_count": 61,
   "metadata": {},
   "outputs": [
    {
     "name": "stdout",
     "output_type": "stream",
     "text": [
      "Lowest error is 0.027339642481598318 occurs at C=1.\n"
     ]
    },
    {
     "data": {
      "image/png": "[encoded data removed]",
      "text/plain": [
       "<matplotlib.figure.Figure at 0x19bfef764e0>"
      ]
     },
     "metadata": {},
     "output_type": "display_data"
    }
   ],
   "source": [
    "c=svm_error(k,10,x_train3,y_train3,x_test3,y_test3)"
   ]
  },
  {
   "cell_type": "code",
   "execution_count": 62,
   "metadata": {},
   "outputs": [
    {
     "name": "stdout",
     "output_type": "stream",
     "text": [
      "             precision    recall  f1-score   support\n",
      "\n",
      "     female     0.9869    0.9575    0.9720       471\n",
      "       male     0.9595    0.9875    0.9733       480\n",
      "\n",
      "avg / total     0.9731    0.9727    0.9727       951\n",
      "\n"
     ]
    }
   ],
   "source": [
    "model=svm.SVC(kernel=k,C=c)\n",
    "classify(model,x_train3,y_train3,x_test3,y_test3)"
   ]
  },
  {
   "cell_type": "code",
   "execution_count": null,
   "metadata": {},
   "outputs": [],
   "source": [
    "# Get the separating hyperplane\n",
    "w = model.coef_[0]\n",
    "a = -w[0] / w[1]\n",
    "xx = np.linspace(0,1)\n",
    "yy = a * xx - (model.intercept_[0]) / w[1]\n",
    "\n",
    "colors={0:\"red\",1:\"blue\"}\n",
    "# Plot the hyperplane\n",
    "#plt.scatter(testFeatures[\"IQR\"],testFeatures[\"meanfun\"],color=testLabel2.apply(lambda x:colors[x]))\n",
    "plt.figure(figsize=(10,6))\n",
    "plt.scatter(x_test[\"IQR\"],x_test[\"meanfun\"], c=y_test, s=20, cmap=plt.cm.brg)\n",
    "plt.plot(xx, yy, linewidth=2, color='black')\n",
    "plt.show()"
   ]
  },
  {
   "cell_type": "markdown",
   "metadata": {},
   "source": [
    "## Neural Network\n",
    "Using neural_network.MLPClassifier to build the model."
   ]
  },
  {
   "cell_type": "code",
   "execution_count": null,
   "metadata": {},
   "outputs": [],
   "source": [
    "def nn_error(n,x_train,y_train,x_test,y_test):\n",
    "    error_rate = []\n",
    "    hidden_layer=range(1,n)\n",
    "    for i in hidden_layer:\n",
    "        model = neural_network.MLPClassifier(solver='adam', alpha=1e-5,\n",
    "                                       hidden_layer_sizes=i,\n",
    "                                       activation='logistic',random_state=17,\n",
    "                                       max_iter=2000)\n",
    "        model.fit(x_train, y_train)\n",
    "        y_pred = model.predict(x_test)\n",
    "        error_rate.append(np.mean(y_pred != y_test))\n",
    "    kloc = error_rate.index(min(error_rate))\n",
    "    print(\"Lowest error is %s occurs at C=%s.\" % (error_rate[kloc], hidden_layer[kloc]))\n",
    "\n",
    "    plt.plot(hidden_layer, error_rate, color='blue', linestyle='dashed', marker='o',\n",
    "             markerfacecolor='red', markersize=10)\n",
    "    plt.title('Error Rate vs. Hidden Layer Size')\n",
    "    plt.xlabel('Size')\n",
    "    plt.ylabel('Error Rate')\n",
    "    plt.show()\n",
    "    return hidden_layer[kloc]"
   ]
  },
  {
   "cell_type": "code",
   "execution_count": null,
   "metadata": {},
   "outputs": [],
   "source": [
    "h=nn_error(20,x_train,y_train,x_test,y_test)"
   ]
  },
  {
   "cell_type": "code",
   "execution_count": null,
   "metadata": {},
   "outputs": [],
   "source": [
    "model = neural_network.MLPClassifier(solver='adam', alpha=1e-5,\n",
    "                                       hidden_layer_sizes=h,\n",
    "                                       activation='logistic',random_state=17,\n",
    "                                       max_iter=2000)\n",
    "classify(model,x_train,y_train,x_test,y_test)"
   ]
  },
  {
   "cell_type": "code",
   "execution_count": null,
   "metadata": {},
   "outputs": [],
   "source": [
    "h=nn_error(20,x_train3,y_train3,x_test3,y_test3)"
   ]
  },
  {
   "cell_type": "code",
   "execution_count": null,
   "metadata": {},
   "outputs": [],
   "source": [
    "model = neural_network.MLPClassifier(solver='adam', alpha=1e-5,\n",
    "                                       hidden_layer_sizes=h,\n",
    "                                       activation='logistic',random_state=17,\n",
    "                                       max_iter=2000)\n",
    "classify(model,x_train3,y_train3,x_test3,y_test3)"
   ]
  },
  {
   "cell_type": "code",
   "execution_count": null,
   "metadata": {},
   "outputs": [],
   "source": []
  }
 ],
 "metadata": {
  "kernelspec": {
   "display_name": "Python 3",
   "language": "python",
   "name": "python3"
  },
  "language_info": {
   "codemirror_mode": {
    "name": "ipython",
    "version": 3
   },
   "file_extension": ".py",
   "mimetype": "text/x-python",
   "name": "python",
   "nbconvert_exporter": "python",
   "pygments_lexer": "ipython3",
   "version": "3.5.4"
  }
 },
 "nbformat": 4,
 "nbformat_minor": 2
}
